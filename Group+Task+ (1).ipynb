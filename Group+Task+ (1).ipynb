{
 "cells": [
  {
   "cell_type": "markdown",
   "metadata": {},
   "source": [
    "# Portnoy System"
   ]
  },
  {
   "cell_type": "markdown",
   "metadata": {},
   "source": [
    "## Учитываемые прамаетры"
   ]
  },
  {
   "cell_type": "markdown",
   "metadata": {},
   "source": [
    "___\n"
   ]
  },
  {
   "cell_type": "markdown",
   "metadata": {},
   "source": [
    "\n",
    "\n",
    "|Наименование | Коэффициент |\n",
    "| ------ | ----------- |\n",
    "| Test   | 0.1 |\n",
    "| Sex | 0.5 |\n",
    "| Random   | 3 |"
   ]
  },
  {
   "cell_type": "markdown",
   "metadata": {},
   "source": [
    "Formula :  Result = Test x 0.1 + Sex x 0.5 + Random x 3\n"
   ]
  },
  {
   "cell_type": "code",
   "execution_count": 26,
   "metadata": {},
   "outputs": [
    {
     "name": "stdout",
     "output_type": "stream",
     "text": [
      "[['Имя ', 'Test ', 'sex', 'Random'], ['Ogarko Anna Konstantinovna', '8', '2', '4'], ['Podusovsky Vladimir Olegovich', '4', '1', '3'], ['Bellyukov Ilya Vladimirovich', '9', '1', '6'], ['Kuzkina Valeria Alekseevna', '10', '2', '7'], ['Yakimova Darya Vyacheslavovna', '5', '2', '6'], ['Desyatov Petr Valerievich', '4', '1', '5'], ['Kogan Zakhar Ilich', '3', '1', '8'], ['Klimov Evgeny Ruslanovich', '5', '1', '10'], ['Tugonbaev Bobur', '8', '1', '2'], ['Anastasia', '9', '2', '9']]\n",
      "Podusovsky Vladimir Olegovich 8.0\n",
      "Ogarko Anna Konstantinovna 13.8\n",
      "Podusovsky Vladimir Olegovich 9.9\n",
      "Bellyukov Ilya Vladimirovich 19.4\n",
      "Kuzkina Valeria Alekseevna 23.0\n",
      "Yakimova Darya Vyacheslavovna 19.5\n",
      "Desyatov Petr Valerievich 15.9\n",
      "Kogan Zakhar Ilich 24.8\n",
      "Klimov Evgeny Ruslanovich 31.0\n",
      "Tugonbaev Bobur 7.3\n",
      "Anastasia 28.9\n"
     ]
    }
   ],
   "source": [
    "import numpy as np\n",
    "import csv\n",
    "\n",
    "with open(\"/home/netbug/azam/teamwork.csv\", 'r') as f:\n",
    "    mtrx = list(csv.reader(f, delimiter=\",\"))\n",
    "    print(mtrx)\n",
    "    row = mtrx[2]\n",
    "    item = float(row[1]) + float(row[2]) + float(row[3])\n",
    "    print(row[0], item)\n",
    "    \n",
    "    iterrows = iter(mtrx)\n",
    "    next(iterrows)\n",
    "    for row in iterrows:\n",
    "        item = float(row[1])*0.1 + float(row[2])*0.5 + float(row[3])*3\n",
    "        print(row[0], '%.1f' % round(item, 1))"
   ]
  },
  {
   "cell_type": "code",
   "execution_count": 52,
   "metadata": {},
   "outputs": [
    {
     "name": "stdout",
     "output_type": "stream",
     "text": [
      "Ogarko Anna Konstantinovna\n",
      "Podusovsky Vladimir Olegovich\n",
      "Bellyukov Ilya Vladimirovich\n",
      "Kuzkina Valeria Alekseevna\n",
      "Yakimova Darya Vyacheslavovna\n",
      "Desyatov Petr Valerievich\n",
      "Kogan Zakhar Ilich\n",
      "Klimov Evgeny Ruslanovich\n",
      "Tugonbaev Bobur\n",
      "Anastasia\n"
     ]
    },
    {
     "data": {
      "image/png": "[encoded data removed]",
      "text/plain": [
       "<matplotlib.figure.Figure at 0x7fc77e38af60>"
      ]
     },
     "metadata": {},
     "output_type": "display_data"
    }
   ],
   "source": [
    "import numpy as np\n",
    "import csv\n",
    "import matplotlib.pyplot as plt\n",
    "\n",
    "\n",
    "listName = []\n",
    "listScore = []\n",
    "with open(\"/home/netbug/azam/teamwork.csv\", 'r') as f:\n",
    "    mtrx = list(csv.reader(f, delimiter=\",\"))\n",
    "    row = mtrx[2]\n",
    "    item = float(row[1]) + float(row[2]) + float(row[3])\n",
    "    #print(row[0], item)\n",
    "    iterrows = iter(mtrx)\n",
    "    next(iterrows)\n",
    "    for row in iterrows:\n",
    "        t11 = (row[0])\n",
    "        listName.append(row[0])\n",
    "        item = float(row[1])*0.1 + float(row[2])*0.5 + float(row[3])*3\n",
    "        listScore.append(item)\n",
    "   \n",
    "  \n",
    "#print('\\n'.join(map(str, listScore))\n",
    "print('\\n'.join(map(str, listName)))\n",
    "   \n",
    "\n",
    "        \n",
    "plt.xlabel('Name')\n",
    "plt.ylabel('Overall Score')\n",
    "plt.title('Histogram of Scores')\n",
    "plt.bar(range(len(listScore)), listScore, align='center')\n",
    "plt.xticks(range(len(listScore)), listName, size='medium', rotation=\"vertical\")\n",
    "plt.grid(True)\n",
    "plt.show()"
   ]
  },
  {
   "cell_type": "code",
   "execution_count": null,
   "metadata": {
    "collapsed": true
   },
   "outputs": [],
   "source": []
  }
 ],
 "metadata": {
  "kernelspec": {
   "display_name": "Python 3",
   "language": "python",
   "name": "python3"
  },
  "language_info": {
   "codemirror_mode": {
    "name": "ipython",
    "version": 3
   },
   "file_extension": ".py",
   "mimetype": "text/x-python",
   "name": "python",
   "nbconvert_exporter": "python",
   "pygments_lexer": "ipython3",
   "version": "3.5.2"
  }
 },
 "nbformat": 4,
 "nbformat_minor": 2
}
